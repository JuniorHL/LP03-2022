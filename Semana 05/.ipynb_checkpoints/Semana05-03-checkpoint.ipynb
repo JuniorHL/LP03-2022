{
 "cells": [
  {
   "cell_type": "markdown",
   "id": "e633ebab",
   "metadata": {},
   "source": [
    "# Semana 05\n",
    "Anselmo Junior Huancas Leuyacc\n",
    "\n",
    "Temas:"
   ]
  },
  {
   "cell_type": "markdown",
   "id": "2af707b4",
   "metadata": {},
   "source": [
    "1. Numeros\n",
    "2. Variables\n",
    "3. Manejo de Cadenas\n",
    "4. Ingreso de datos por teclado\n",
    "5. Operadores"
   ]
  },
  {
   "cell_type": "markdown",
   "id": "3eab4255",
   "metadata": {},
   "source": [
    "3. Manejo de cadenas"
   ]
  },
  {
   "cell_type": "code",
   "execution_count": 10,
   "id": "8929e1a6",
   "metadata": {},
   "outputs": [
    {
     "data": {
      "text/plain": [
       "'Universidad Nacional Tecnologica de Lima Sur'"
      ]
     },
     "execution_count": 10,
     "metadata": {},
     "output_type": "execute_result"
    }
   ],
   "source": [
    "cadena = \"Universidad Nacional Tecnologica de Lima Sur\"\n",
    "cadena"
   ]
  },
  {
   "cell_type": "code",
   "execution_count": 2,
   "id": "4bc66b7a",
   "metadata": {},
   "outputs": [
    {
     "data": {
      "text/plain": [
       "'r'"
      ]
     },
     "execution_count": 2,
     "metadata": {},
     "output_type": "execute_result"
    }
   ],
   "source": [
    "cadena[5]"
   ]
  },
  {
   "cell_type": "code",
   "execution_count": 3,
   "id": "57edb945",
   "metadata": {},
   "outputs": [
    {
     "data": {
      "text/plain": [
       "'a'"
      ]
     },
     "execution_count": 3,
     "metadata": {},
     "output_type": "execute_result"
    }
   ],
   "source": [
    "cadena[-5]"
   ]
  },
  {
   "cell_type": "code",
   "execution_count": 4,
   "id": "70e7f26e",
   "metadata": {},
   "outputs": [
    {
     "data": {
      "text/plain": [
       "' '"
      ]
     },
     "execution_count": 4,
     "metadata": {},
     "output_type": "execute_result"
    }
   ],
   "source": [
    "cadena[-24]"
   ]
  },
  {
   "cell_type": "code",
   "execution_count": 5,
   "id": "397c08da",
   "metadata": {},
   "outputs": [
    {
     "data": {
      "text/plain": [
       "'T'"
      ]
     },
     "execution_count": 5,
     "metadata": {},
     "output_type": "execute_result"
    }
   ],
   "source": [
    "cadena[-23]"
   ]
  },
  {
   "cell_type": "code",
   "execution_count": 7,
   "id": "9549861a",
   "metadata": {},
   "outputs": [
    {
     "data": {
      "text/plain": [
       "'versi'"
      ]
     },
     "execution_count": 7,
     "metadata": {},
     "output_type": "execute_result"
    }
   ],
   "source": [
    "#Para mostrar una subcadena -> [desde:hasta uno antes]\n",
    "cadena[3:8]"
   ]
  },
  {
   "cell_type": "code",
   "execution_count": 11,
   "id": "4a58af90",
   "metadata": {},
   "outputs": [
    {
     "data": {
      "text/plain": [
       "44"
      ]
     },
     "execution_count": 11,
     "metadata": {},
     "output_type": "execute_result"
    }
   ],
   "source": [
    "#Para saber el tamaño de la cadena -> len()\n",
    "len(cadena)"
   ]
  },
  {
   "cell_type": "code",
   "execution_count": 12,
   "id": "eac34725",
   "metadata": {},
   "outputs": [
    {
     "data": {
      "text/plain": [
       "'UNIVERSIDAD NACIONAL TECNOLOGICA DE LIMA SUR'"
      ]
     },
     "execution_count": 12,
     "metadata": {},
     "output_type": "execute_result"
    }
   ],
   "source": [
    "#Para mostrar una cadena en mayuscula -> upper()\n",
    "cadena.upper()"
   ]
  },
  {
   "cell_type": "code",
   "execution_count": 14,
   "id": "47ec4c72",
   "metadata": {},
   "outputs": [
    {
     "data": {
      "text/plain": [
       "'UNIVERSIDAD NACIONAL TECNOLOGICA DE LIMA SUR'"
      ]
     },
     "execution_count": 14,
     "metadata": {},
     "output_type": "execute_result"
    }
   ],
   "source": [
    "#Solo se muestra en mayuscula y la cadena se mantiene como en el principio\n",
    "#Si se desea cambiar\n",
    "cadena = cadena.upper()\n",
    "cadena"
   ]
  },
  {
   "cell_type": "code",
   "execution_count": null,
   "id": "5de82de1",
   "metadata": {},
   "outputs": [],
   "source": []
  }
 ],
 "metadata": {
  "kernelspec": {
   "display_name": "Python 3 (ipykernel)",
   "language": "python",
   "name": "python3"
  },
  "language_info": {
   "codemirror_mode": {
    "name": "ipython",
    "version": 3
   },
   "file_extension": ".py",
   "mimetype": "text/x-python",
   "name": "python",
   "nbconvert_exporter": "python",
   "pygments_lexer": "ipython3",
   "version": "3.9.7"
  }
 },
 "nbformat": 4,
 "nbformat_minor": 5
}
