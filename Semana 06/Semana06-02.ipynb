{
 "cells": [
  {
   "cell_type": "markdown",
   "id": "cb7d3db3",
   "metadata": {},
   "source": [
    "# SEMANA 06\n",
    "Anselmo Junior Huancas Leuyacc"
   ]
  },
  {
   "cell_type": "markdown",
   "id": "37504fc1",
   "metadata": {},
   "source": [
    "Temas"
   ]
  },
  {
   "cell_type": "markdown",
   "id": "88dbb157",
   "metadata": {},
   "source": [
    "1. Coleccion de datos\n",
    "2. Estructuras Decisivas y Repetidas\n",
    "3. Funciones\n",
    "4. Clases y objetos"
   ]
  },
  {
   "cell_type": "markdown",
   "id": "f969a780",
   "metadata": {},
   "source": [
    "2. Estructuras Decisivas y Repetidas"
   ]
  },
  {
   "cell_type": "code",
   "execution_count": 1,
   "id": "47d46fac",
   "metadata": {},
   "outputs": [],
   "source": [
    "# 2.1 Estructuras Decisivas (if, elif, else)"
   ]
  },
  {
   "cell_type": "code",
   "execution_count": 2,
   "id": "25fb1e41",
   "metadata": {},
   "outputs": [],
   "source": [
    "# if\n",
    "# Problema: Dado el precio de productos ingresados por teclado, aplicar el descuento del 10% del total\n",
    "# venta es mayor o igual a 1000."
   ]
  },
  {
   "cell_type": "code",
   "execution_count": 48,
   "id": "95831a20",
   "metadata": {},
   "outputs": [
    {
     "name": "stdout",
     "output_type": "stream",
     "text": [
      "Producto 1: 250\n",
      "Producto 2: 250\n",
      "Producto 3: 200\n",
      "Total a pagar es: 700.0\n"
     ]
    }
   ],
   "source": [
    "#Solución\n",
    "P1 = float(input(\"Producto 1: \"))\n",
    "P2 = float(input(\"Producto 2: \"))\n",
    "P3 = float(input(\"Producto 3: \"))\n",
    "total = P1 + P2 + P3\n",
    "if total>=1000:\n",
    "    total*=0.9\n",
    "\n",
    "print(f\"Total a pagar es: {total}\")"
   ]
  },
  {
   "cell_type": "code",
   "execution_count": 49,
   "id": "be7cef2c",
   "metadata": {},
   "outputs": [],
   "source": [
    "# Problema 01 (Recordando)\n",
    "# Dado una lista de [ALANYA, ALVA, AZAÑERO, CARRASCO, CCACCYA, COSME, CUSI, DIAZ, FLORES, GOMEZ, GOMEZ,\n",
    "# GRANADOS, HUANCAS, JULCA, LAURA, MOTTA, PINEDO, PONCE, QUINTANA,RODRIGUEZ, SERNA, VILCA, YAURICASA]\n",
    "# Diseñar un código que muestre si el apellido de un estudiante(ingreso por teclado forma parte de la lista)"
   ]
  },
  {
   "cell_type": "code",
   "execution_count": 50,
   "id": "47d36e0a",
   "metadata": {},
   "outputs": [
    {
     "name": "stdout",
     "output_type": "stream",
     "text": [
      "Ingrese nombre del estudiante a encontrar: \n",
      "\n",
      "El Alumno no esta en la lista\n"
     ]
    }
   ],
   "source": [
    "lista = ['ALANYA' , 'ALVA' , 'AZAÑERO' , 'CARRASCO' , 'CCACCYA' , 'COSME' , 'CUSI' , 'DIAZ' , 'FLORES' , 'GOMEZ' , 'GOMEZ' , 'GRANADOS' , 'HUANCAS' , 'JULCA' , 'LAURA' , 'MOTTA' , 'PINEDO' , 'PONCE' , 'QUINTANA' ,'RODRIGUEZ' , 'SERNA' , 'VILCA' , 'YAURICASA' ]\n",
    "print(\"Ingrese nombre del estudiante a encontrar: \")\n",
    "alumno = input()\n",
    "alumno = alumno.upper()\n",
    "\n",
    "if alumno in lista :\n",
    "    print(\"El Alumno si esta en la lista\")\n",
    "else:\n",
    "    print(\"El Alumno no esta en la lista\")"
   ]
  },
  {
   "cell_type": "code",
   "execution_count": 51,
   "id": "b38eda51",
   "metadata": {},
   "outputs": [],
   "source": [
    "# Problema 02\n",
    "# Dado el importe total de ventas realizadas por un trabajador (ingresado por teclado, \n",
    "# categorizar que tipo de empleado es, considerando la siguiente tabla:\n",
    "\n",
    "# Categoria: A -> [0, 1000]\n",
    "# Categoria: B -> <1000, 2000]\n",
    "# Categoria: C -> <2000, 5000]\n",
    "# Categoría: D -> <5000, Mas]"
   ]
  },
  {
   "cell_type": "code",
   "execution_count": 52,
   "id": "262551bb",
   "metadata": {},
   "outputs": [
    {
     "name": "stdout",
     "output_type": "stream",
     "text": [
      "Cuanto fue el total de ventas del trabajador: \n",
      "\n"
     ]
    },
    {
     "ename": "ValueError",
     "evalue": "could not convert string to float: ''",
     "output_type": "error",
     "traceback": [
      "\u001b[1;31m---------------------------------------------------------------------------\u001b[0m",
      "\u001b[1;31mValueError\u001b[0m                                Traceback (most recent call last)",
      "\u001b[1;32m~\\AppData\\Local\\Temp/ipykernel_8132/3226072124.py\u001b[0m in \u001b[0;36m<module>\u001b[1;34m\u001b[0m\n\u001b[0;32m      3\u001b[0m \u001b[1;32mwhile\u001b[0m \u001b[1;32mTrue\u001b[0m\u001b[1;33m:\u001b[0m\u001b[1;33m\u001b[0m\u001b[1;33m\u001b[0m\u001b[0m\n\u001b[0;32m      4\u001b[0m     \u001b[0mprint\u001b[0m\u001b[1;33m(\u001b[0m\u001b[1;34m\"Cuanto fue el total de ventas del trabajador: \"\u001b[0m\u001b[1;33m)\u001b[0m\u001b[1;33m\u001b[0m\u001b[1;33m\u001b[0m\u001b[0m\n\u001b[1;32m----> 5\u001b[1;33m     \u001b[0mtotal\u001b[0m \u001b[1;33m=\u001b[0m \u001b[0mfloat\u001b[0m\u001b[1;33m(\u001b[0m\u001b[0minput\u001b[0m\u001b[1;33m(\u001b[0m\u001b[1;33m)\u001b[0m\u001b[1;33m)\u001b[0m\u001b[1;33m\u001b[0m\u001b[1;33m\u001b[0m\u001b[0m\n\u001b[0m\u001b[0;32m      6\u001b[0m \u001b[1;33m\u001b[0m\u001b[0m\n\u001b[0;32m      7\u001b[0m     \u001b[1;32mif\u001b[0m \u001b[0mtotal\u001b[0m \u001b[1;33m<\u001b[0m \u001b[1;36m0\u001b[0m\u001b[1;33m:\u001b[0m\u001b[1;33m\u001b[0m\u001b[1;33m\u001b[0m\u001b[0m\n",
      "\u001b[1;31mValueError\u001b[0m: could not convert string to float: ''"
     ]
    }
   ],
   "source": [
    "# Solucion...\n",
    "# Validacion para que siempre sea positivo\n",
    "while True:\n",
    "    print(\"Cuanto fue el total de ventas del trabajador: \")\n",
    "    total = float(input())\n",
    "    \n",
    "    if total < 0:\n",
    "        print(\"El total de ventas debe ser positivo...\")\n",
    "    \n",
    "    if total >= 0:\n",
    "        break\n",
    "\n",
    "# Escogiendo la categoria        \n",
    "if total <= 1000:\n",
    "    print(\"Categoria A\")\n",
    "else:\n",
    "    if total <= 2000:\n",
    "        print(\"Categoria B\")\n",
    "    else:\n",
    "        if total <= 5000:\n",
    "            print(\"Categoria C\")\n",
    "        else:\n",
    "            print(\"Categoria D\")\n"
   ]
  },
  {
   "cell_type": "code",
   "execution_count": 53,
   "id": "53ecd753",
   "metadata": {},
   "outputs": [],
   "source": [
    "#elif\n",
    "# Problema 02\n",
    "# Dado el importe total de ventas realizadas por un trabajador (ingresado por teclado, \n",
    "# categorizar que tipo de empleado es, considerando la siguiente tabla:\n",
    "\n",
    "# Categoria: A -> [0, 1000]\n",
    "# Categoria: B -> <1000, 2000]\n",
    "# Categoria: C -> <2000, 5000]\n",
    "# Categoría: D -> <5000, Mas]"
   ]
  },
  {
   "cell_type": "code",
   "execution_count": 54,
   "id": "d7d39c40",
   "metadata": {},
   "outputs": [
    {
     "name": "stdout",
     "output_type": "stream",
     "text": [
      "Cuanto fue el total de ventas del trabajador: \n",
      "5\n",
      "CATEGORIA 'A'\n"
     ]
    }
   ],
   "source": [
    "# Solucion...\n",
    "print(\"Cuanto fue el total de ventas del trabajador: \")\n",
    "total = float(input())\n",
    "\n",
    "if total >=0 and total <=1000:\n",
    "    print (\"CATEGORIA 'A'\")\n",
    "elif total >1000 and total <=2000:\n",
    "    print(\"CATEGORIA 'B' \")\n",
    "elif total >2000 and total <= 5000:\n",
    "    print(\"CATEGORIA 'C' \")\n",
    "elif total > 5000:\n",
    "    print(\"CATEGORIA 'D' \")"
   ]
  },
  {
   "cell_type": "code",
   "execution_count": null,
   "id": "d4e2f94e",
   "metadata": {},
   "outputs": [],
   "source": [
    "# 2.2 Estructuras Repetitivas"
   ]
  },
  {
   "cell_type": "code",
   "execution_count": 56,
   "id": "10116698",
   "metadata": {},
   "outputs": [],
   "source": [
    "# For"
   ]
  },
  {
   "cell_type": "code",
   "execution_count": 57,
   "id": "4b838614",
   "metadata": {},
   "outputs": [],
   "source": [
    "# Problema 01:\n",
    "# Mostrar los elementos de una lista utilizando for"
   ]
  },
  {
   "cell_type": "code",
   "execution_count": 58,
   "id": "572286a3",
   "metadata": {},
   "outputs": [
    {
     "name": "stdout",
     "output_type": "stream",
     "text": [
      "Yauricasa\n",
      "Granados\n",
      "Alva\n",
      "Laura\n"
     ]
    }
   ],
   "source": [
    "# Solucion\n",
    "aula = ['Yauricasa','Granados','Alva','Laura']\n",
    "\n",
    "# Por cada alumno que esta en la lista, imprimir alumno\n",
    "\n",
    "for alumno in aula:\n",
    "    print(alumno)"
   ]
  },
  {
   "cell_type": "code",
   "execution_count": 59,
   "id": "91c10b24",
   "metadata": {},
   "outputs": [],
   "source": [
    "# Problema 02:\n",
    "# Dado una cadena ingresado por teclado, mostrar cada caracter de la cadena, utilizando la estructura for"
   ]
  },
  {
   "cell_type": "code",
   "execution_count": 60,
   "id": "68d0d5e6",
   "metadata": {},
   "outputs": [
    {
     "name": "stdout",
     "output_type": "stream",
     "text": [
      "Ingrese cadena: hola como estas\n",
      "h\n",
      "o\n",
      "l\n",
      "a\n",
      " \n",
      "c\n",
      "o\n",
      "m\n",
      "o\n",
      " \n",
      "e\n",
      "s\n",
      "t\n",
      "a\n",
      "s\n"
     ]
    }
   ],
   "source": [
    "# Solucion...\n",
    "cadena = input(\"Ingrese cadena: \")\n",
    "for caracter in cadena:\n",
    "    print(caracter)"
   ]
  },
  {
   "cell_type": "code",
   "execution_count": 61,
   "id": "f36bc345",
   "metadata": {},
   "outputs": [
    {
     "data": {
      "text/plain": [
       "range(0, 5)"
      ]
     },
     "execution_count": 61,
     "metadata": {},
     "output_type": "execute_result"
    }
   ],
   "source": [
    "# Para generar rangos de los numeros -> range()\n",
    "range(5)"
   ]
  },
  {
   "cell_type": "code",
   "execution_count": 62,
   "id": "5db18c93",
   "metadata": {},
   "outputs": [
    {
     "name": "stdout",
     "output_type": "stream",
     "text": [
      "0\n",
      "1\n",
      "2\n",
      "3\n",
      "4\n",
      "5\n",
      "6\n",
      "7\n",
      "8\n",
      "9\n",
      "10\n"
     ]
    }
   ],
   "source": [
    "# Imprimir los numeros de 1 a 10, utilizando for\n",
    "for num in range(11):\n",
    "    print(num)"
   ]
  },
  {
   "cell_type": "code",
   "execution_count": 63,
   "id": "2e010d75",
   "metadata": {},
   "outputs": [],
   "source": [
    "# Problema 02:\n",
    "# Imprimir los numeros pares del 10 al 20"
   ]
  },
  {
   "cell_type": "code",
   "execution_count": 64,
   "id": "76d84afb",
   "metadata": {},
   "outputs": [
    {
     "name": "stdout",
     "output_type": "stream",
     "text": [
      "10\n",
      "12\n",
      "14\n",
      "16\n",
      "18\n",
      "20\n"
     ]
    }
   ],
   "source": [
    "# Solucion...\n",
    "for num in range(10,21,2):\n",
    "    print(num)"
   ]
  },
  {
   "cell_type": "code",
   "execution_count": 65,
   "id": "5bd91c80",
   "metadata": {},
   "outputs": [],
   "source": [
    "# Problema 03:\n",
    "# Dado una lista de numeros, utilizando el metodo de burbuja ordenarlos de menor a mayor"
   ]
  },
  {
   "cell_type": "code",
   "execution_count": 66,
   "id": "a2776d24",
   "metadata": {},
   "outputs": [
    {
     "name": "stdout",
     "output_type": "stream",
     "text": [
      "['-10', '-1000', '0', '0', '10', '100', '17', '20', '2000', '5', '50']\n"
     ]
    }
   ],
   "source": [
    "# Solucion...\n",
    "\n",
    "lista = [\"10\", \"20\", \"5\", \"-10\", \"100\", \"0\", \"50\", \"17\", \"2000\", \"-1000\", \"0\"]\n",
    "\n",
    "for i in range(1,len(lista)):\n",
    "    for j in range(0,len(lista)-i):\n",
    "        if(lista[j+1] < lista[j]):\n",
    "            aux=lista[j];\n",
    "            lista[j]=lista[j+1];\n",
    "            lista[j+1]=aux;\n",
    "            \n",
    "print(lista)"
   ]
  }
 ],
 "metadata": {
  "kernelspec": {
   "display_name": "Python 3 (ipykernel)",
   "language": "python",
   "name": "python3"
  },
  "language_info": {
   "codemirror_mode": {
    "name": "ipython",
    "version": 3
   },
   "file_extension": ".py",
   "mimetype": "text/x-python",
   "name": "python",
   "nbconvert_exporter": "python",
   "pygments_lexer": "ipython3",
   "version": "3.9.7"
  }
 },
 "nbformat": 4,
 "nbformat_minor": 5
}
