{
 "cells": [
  {
   "cell_type": "markdown",
   "id": "de2ee075",
   "metadata": {},
   "source": [
    "# SEMANA 06\n",
    "Huancas Leuyacc Anselmo Junior"
   ]
  },
  {
   "cell_type": "markdown",
   "id": "d9356ae6",
   "metadata": {},
   "source": [
    "Temas"
   ]
  },
  {
   "cell_type": "markdown",
   "id": "18153b71",
   "metadata": {},
   "source": [
    "1. Coleccion de datos\n",
    "2. Estructuras Decisivas y Repetidas\n",
    "3. Funciones\n",
    "4. Clases y objetos"
   ]
  },
  {
   "cell_type": "markdown",
   "id": "03fcca19",
   "metadata": {},
   "source": [
    "4. Clases y objetos"
   ]
  },
  {
   "cell_type": "code",
   "execution_count": 1,
   "id": "27e643f6",
   "metadata": {},
   "outputs": [],
   "source": [
    "# Problema 01\n",
    "# Crear la siguiente clase:\n",
    "# - clase: persona\n",
    "# - atributp: nombre, apellido, talla, dni"
   ]
  },
  {
   "cell_type": "code",
   "execution_count": 9,
   "id": "bef012e6",
   "metadata": {},
   "outputs": [],
   "source": [
    "class Persona:\n",
    "    nombre = \"\"\n",
    "    apellidos = \"\"\n",
    "    dni = \"\"\n",
    "    talla = 0"
   ]
  },
  {
   "cell_type": "code",
   "execution_count": 10,
   "id": "03acb866",
   "metadata": {},
   "outputs": [
    {
     "name": "stdout",
     "output_type": "stream",
     "text": [
      "persona1\n",
      "Nombre: Anselmo\n",
      "Apellido: Huancas Leuyacc\n",
      "DNI: 12345678\n",
      "Talla: 1.7\n"
     ]
    }
   ],
   "source": [
    "# Crea un objeto persona de la clase Persona() y le asignamos valores\n",
    "# Creacion del objeto persona\n",
    "persona1 = Persona()\n",
    "\n",
    "# Asignamos valores al objeto\n",
    "persona1.nombre = \"Anselmo\"\n",
    "persona1.apellidos = \"Huancas Leuyacc\"\n",
    "persona1.dni = \"12345678\"\n",
    "persona1.talla = 1.7\n",
    "\n",
    "#Para mostrar los valores del objeto\n",
    "print(\"persona1\")\n",
    "print(f\"Nombre: {persona1.nombre}\")\n",
    "print(f\"Apellido: {persona1.apellidos}\")\n",
    "print(f\"DNI: {persona1.dni}\")\n",
    "print(f\"Talla: {persona1.talla}\")"
   ]
  },
  {
   "cell_type": "code",
   "execution_count": null,
   "id": "4ae7630d",
   "metadata": {},
   "outputs": [],
   "source": [
    "# Para utilizar constructires utilizamso: __init__\n",
    "# ¿Que es un constructor?\n",
    "# -Es un metodo\n",
    "# -Sirve para inicializar calorea a una clase"
   ]
  },
  {
   "cell_type": "code",
   "execution_count": 11,
   "id": "18d9dda2",
   "metadata": {},
   "outputs": [],
   "source": [
    "# Problema 02\n",
    "# -Crear la siguiente clase y utilizar constructores\n",
    "# -Atributos: Codigo Nombre, Horas Creditos"
   ]
  },
  {
   "cell_type": "code",
   "execution_count": 16,
   "id": "00518b59",
   "metadata": {},
   "outputs": [],
   "source": [
    "# Solucion...\n",
    "\n",
    "class curso:\n",
    "    def __init__ (self, codigo, nombre, horas, creditos):\n",
    "        self.codigo = codigo\n",
    "        self.nombre = nombre\n",
    "        self.horas = horas\n",
    "        self.creditos = creditos\n",
    "    \n",
    "    def mostrar_datos_curso(self):\n",
    "        print(f\"Curso: {self.nombre}\")\n",
    "        print(f\"Codigo: {self.codigo}\")\n",
    "        print(f\"Horas: {self.horas}\")\n",
    "        print(f\"Creditos: {self.creditos}\")"
   ]
  },
  {
   "cell_type": "code",
   "execution_count": 17,
   "id": "85bd71e3",
   "metadata": {},
   "outputs": [],
   "source": [
    "# Creamos el objeto curso1 y le mandamos los parametros\n",
    "\n",
    "curso1 = curso(\"C051\", \"LP3\", 6, 3)"
   ]
  },
  {
   "cell_type": "code",
   "execution_count": 18,
   "id": "e57c6dc0",
   "metadata": {},
   "outputs": [
    {
     "name": "stdout",
     "output_type": "stream",
     "text": [
      "Curso: LP3\n",
      "Codigo: C051\n",
      "Horas: 6\n",
      "Creditos: 3\n"
     ]
    }
   ],
   "source": [
    "# Mostramos los datos del curso,ejecuntando el metodo -> mostrar_datos_curso\n",
    "curso1.mostrar_datos_curso();"
   ]
  },
  {
   "cell_type": "code",
   "execution_count": null,
   "id": "859c9158",
   "metadata": {},
   "outputs": [],
   "source": []
  }
 ],
 "metadata": {
  "kernelspec": {
   "display_name": "Python 3 (ipykernel)",
   "language": "python",
   "name": "python3"
  },
  "language_info": {
   "codemirror_mode": {
    "name": "ipython",
    "version": 3
   },
   "file_extension": ".py",
   "mimetype": "text/x-python",
   "name": "python",
   "nbconvert_exporter": "python",
   "pygments_lexer": "ipython3",
   "version": "3.9.7"
  }
 },
 "nbformat": 4,
 "nbformat_minor": 5
}
