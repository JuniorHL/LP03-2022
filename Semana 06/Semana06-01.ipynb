{
 "cells": [
  {
   "cell_type": "markdown",
   "id": "198a71eb",
   "metadata": {},
   "source": [
    "# SEMANA 06\n",
    "Anselmo Junior Huancas Leuyacc"
   ]
  },
  {
   "cell_type": "markdown",
   "id": "e00f6041",
   "metadata": {},
   "source": [
    "Temas"
   ]
  },
  {
   "cell_type": "markdown",
   "id": "b6b6dacb",
   "metadata": {},
   "source": [
    "1. Coleccion de datos\n",
    "2. Estructuras Decisivas y Repetidas\n",
    "3. Funciones\n",
    "4. Clases y objetos"
   ]
  },
  {
   "cell_type": "markdown",
   "id": "b8c8d0cc",
   "metadata": {},
   "source": [
    "1. Coleccion de datos"
   ]
  },
  {
   "cell_type": "code",
   "execution_count": 1,
   "id": "5c152e04",
   "metadata": {},
   "outputs": [
    {
     "name": "stdout",
     "output_type": "stream",
     "text": [
      "['Yauricasa', 'Granados', 'Alva', 'Laura']\n"
     ]
    }
   ],
   "source": [
    "# 1.1 Listas\n",
    "# Es una coleccion de elementos que pueden ser ordenados, modificados, etc...\n",
    "# Se identifica por los corchetes\n",
    "# Ejemplo\n",
    "aula = ['Yauricasa','Granados','Alva','Laura']\n",
    "print(aula)"
   ]
  },
  {
   "cell_type": "code",
   "execution_count": 2,
   "id": "659d0b37",
   "metadata": {},
   "outputs": [
    {
     "data": {
      "text/plain": [
       "['Yauricasa', 'Granados', 'Alva', 'Laura']"
      ]
     },
     "execution_count": 2,
     "metadata": {},
     "output_type": "execute_result"
    }
   ],
   "source": [
    "aula"
   ]
  },
  {
   "cell_type": "code",
   "execution_count": 3,
   "id": "2ae57e85",
   "metadata": {},
   "outputs": [
    {
     "name": "stdout",
     "output_type": "stream",
     "text": [
      "Yauricasa\n",
      "Granados\n"
     ]
    }
   ],
   "source": [
    "# Podemos extraer cada elemento por su posicion\n",
    "print(aula[0])\n",
    "print(aula[1])"
   ]
  },
  {
   "cell_type": "code",
   "execution_count": 4,
   "id": "65e3f101",
   "metadata": {},
   "outputs": [
    {
     "data": {
      "text/plain": [
       "'Chavez'"
      ]
     },
     "execution_count": 4,
     "metadata": {},
     "output_type": "execute_result"
    }
   ],
   "source": [
    "# Puedo asignar un valor a una posicion de la lista\n",
    "aula[1] = 'Chavez'\n",
    "aula[1]"
   ]
  },
  {
   "cell_type": "code",
   "execution_count": 5,
   "id": "4e5c6d8c",
   "metadata": {},
   "outputs": [
    {
     "data": {
      "text/plain": [
       "['Yauricasa', 'Chavez', 'Alva', 'Laura']"
      ]
     },
     "execution_count": 5,
     "metadata": {},
     "output_type": "execute_result"
    }
   ],
   "source": [
    "aula"
   ]
  },
  {
   "cell_type": "code",
   "execution_count": 11,
   "id": "3cd25d17",
   "metadata": {},
   "outputs": [],
   "source": [
    "# Para agregar un elemento utilizandos -> append\n",
    "aula.append('Huaman')\n",
    "aula.append('Huancas')\n",
    "aula.append('Chavez')"
   ]
  },
  {
   "cell_type": "code",
   "execution_count": 13,
   "id": "04a04679",
   "metadata": {},
   "outputs": [
    {
     "data": {
      "text/plain": [
       "['Chavez',\n",
       " 'Alva',\n",
       " 'Laura',\n",
       " 'Huaman',\n",
       " 'Huaman',\n",
       " 'Huancas',\n",
       " 'Huaman',\n",
       " 'Huancas',\n",
       " 'Chavez']"
      ]
     },
     "execution_count": 13,
     "metadata": {},
     "output_type": "execute_result"
    }
   ],
   "source": [
    "aula"
   ]
  },
  {
   "cell_type": "code",
   "execution_count": 10,
   "id": "c5006b8d",
   "metadata": {},
   "outputs": [
    {
     "data": {
      "text/plain": [
       "['Chavez', 'Alva', 'Laura', 'Huaman', 'Huaman', 'Huancas']"
      ]
     },
     "execution_count": 10,
     "metadata": {},
     "output_type": "execute_result"
    }
   ],
   "source": [
    "# Para eliminar elementos utilizamos -> remove\n",
    "aula.remove('Yauricasa')\n",
    "aula"
   ]
  },
  {
   "cell_type": "code",
   "execution_count": 12,
   "id": "15937cab",
   "metadata": {},
   "outputs": [
    {
     "data": {
      "text/plain": [
       "['Chavez',\n",
       " 'Alva',\n",
       " 'Laura',\n",
       " 'Huaman',\n",
       " 'Huaman',\n",
       " 'Huancas',\n",
       " 'Huaman',\n",
       " 'Huancas',\n",
       " 'Chavez']"
      ]
     },
     "execution_count": 12,
     "metadata": {},
     "output_type": "execute_result"
    }
   ],
   "source": [
    "aula"
   ]
  },
  {
   "cell_type": "code",
   "execution_count": 16,
   "id": "a4d290a9",
   "metadata": {},
   "outputs": [
    {
     "data": {
      "text/plain": [
       "['Alva', 'Laura', 'Huaman', 'Huaman', 'Huancas', 'Huaman', 'Huancas']"
      ]
     },
     "execution_count": 16,
     "metadata": {},
     "output_type": "execute_result"
    }
   ],
   "source": [
    "#Si hubiera varios elementos de valores iguales se elimina la primiera coincidencia\n",
    "aula.remove(\"Chavez\")\n",
    "aula"
   ]
  },
  {
   "cell_type": "code",
   "execution_count": 17,
   "id": "7a598857",
   "metadata": {},
   "outputs": [
    {
     "data": {
      "text/plain": [
       "['Alva', 'Laura', 'Huaman', 'Huaman', 'Huancas']"
      ]
     },
     "execution_count": 17,
     "metadata": {},
     "output_type": "execute_result"
    }
   ],
   "source": [
    "aula.remove(\"Huaman\")\n",
    "aula.remove(\"Huancas\")\n",
    "aula"
   ]
  },
  {
   "cell_type": "code",
   "execution_count": 18,
   "id": "e42c1574",
   "metadata": {},
   "outputs": [
    {
     "data": {
      "text/plain": [
       "['Alva', 'Laura', 'Huaman', 'Huancas']"
      ]
     },
     "execution_count": 18,
     "metadata": {},
     "output_type": "execute_result"
    }
   ],
   "source": [
    "aula.remove(\"Huaman\")\n",
    "aula"
   ]
  },
  {
   "cell_type": "code",
   "execution_count": 19,
   "id": "e0e09ad8",
   "metadata": {},
   "outputs": [
    {
     "data": {
      "text/plain": [
       "['Alva', 'Huaman', 'Huancas']"
      ]
     },
     "execution_count": 19,
     "metadata": {},
     "output_type": "execute_result"
    }
   ],
   "source": [
    "# Para eliminar por posicion\n",
    "aula.remove(aula[1])\n",
    "aula"
   ]
  },
  {
   "cell_type": "code",
   "execution_count": 21,
   "id": "95a2cafe",
   "metadata": {},
   "outputs": [
    {
     "data": {
      "text/plain": [
       "['Huaman', 'Huancas']"
      ]
     },
     "execution_count": 21,
     "metadata": {},
     "output_type": "execute_result"
    }
   ],
   "source": [
    "# Tambien...\n",
    "aula.pop(0)\n",
    "aula"
   ]
  },
  {
   "cell_type": "code",
   "execution_count": 22,
   "id": "8f2a3053",
   "metadata": {},
   "outputs": [
    {
     "data": {
      "text/plain": [
       "2"
      ]
     },
     "execution_count": 22,
     "metadata": {},
     "output_type": "execute_result"
    }
   ],
   "source": [
    "# Para saber el tamaño de la cadena\n",
    "len(aula)"
   ]
  },
  {
   "cell_type": "code",
   "execution_count": 23,
   "id": "0441c1a9",
   "metadata": {},
   "outputs": [
    {
     "data": {
      "text/plain": [
       "['Huaman', 'Huancas', 'Chavez', 'Alva']"
      ]
     },
     "execution_count": 23,
     "metadata": {},
     "output_type": "execute_result"
    }
   ],
   "source": [
    "aula.append('Chavez')\n",
    "aula.append('Alva')\n",
    "aula"
   ]
  },
  {
   "cell_type": "code",
   "execution_count": 24,
   "id": "cdcd5d73",
   "metadata": {},
   "outputs": [
    {
     "name": "stdout",
     "output_type": "stream",
     "text": [
      "Huaman\n",
      "Huancas\n",
      "Chavez\n",
      "Alva\n"
     ]
    }
   ],
   "source": [
    "for alumno in aula:\n",
    "    print(alumno)"
   ]
  },
  {
   "cell_type": "code",
   "execution_count": 25,
   "id": "db0caeee",
   "metadata": {},
   "outputs": [
    {
     "data": {
      "text/plain": [
       "['Alva', 'Chavez', 'Huancas', 'Huaman']"
      ]
     },
     "execution_count": 25,
     "metadata": {},
     "output_type": "execute_result"
    }
   ],
   "source": [
    "# Para invertir la lista utilizamos -> reverse()\n",
    "# Invertir NO SIGNIFICA  ordenar de forma descendente sin invertir la lista\n",
    "aula.reverse()\n",
    "aula"
   ]
  },
  {
   "cell_type": "code",
   "execution_count": 26,
   "id": "ce4a803f",
   "metadata": {},
   "outputs": [
    {
     "data": {
      "text/plain": [
       "['Alva', 'Chavez', 'Huaman', 'Huancas']"
      ]
     },
     "execution_count": 26,
     "metadata": {},
     "output_type": "execute_result"
    }
   ],
   "source": [
    "# Para ordenar una listautilizamos -> sort()\n",
    "aula.sort()\n",
    "aula"
   ]
  },
  {
   "cell_type": "code",
   "execution_count": 27,
   "id": "7ceeb53c",
   "metadata": {},
   "outputs": [
    {
     "data": {
      "text/plain": [
       "('Granados', 'Julca', 'Cusi', 'Marcos')"
      ]
     },
     "execution_count": 27,
     "metadata": {},
     "output_type": "execute_result"
    }
   ],
   "source": [
    "# 1.2 Tuplas\n",
    "# Es una coleccion de elementos ordenados(ordenado significa que tiene un indice) que no se puede modificar, es INALTERABLE\n",
    "# No se pueden agregar elementos ni eliminar\n",
    "# Se identifican por los parentesis\n",
    "\n",
    "tupla_aula = ('Granados','Julca','Cusi','Marcos')\n",
    "tupla_aula"
   ]
  },
  {
   "cell_type": "code",
   "execution_count": 29,
   "id": "e56ede27",
   "metadata": {},
   "outputs": [
    {
     "name": "stdout",
     "output_type": "stream",
     "text": [
      "Granados\n",
      "Julca\n",
      "Cusi\n",
      "Marcos\n"
     ]
    }
   ],
   "source": [
    "for alumno in tupla_aula:\n",
    "    print(alumno)"
   ]
  },
  {
   "cell_type": "code",
   "execution_count": 30,
   "id": "15d3861d",
   "metadata": {},
   "outputs": [
    {
     "data": {
      "text/plain": [
       "'Cusi'"
      ]
     },
     "execution_count": 30,
     "metadata": {},
     "output_type": "execute_result"
    }
   ],
   "source": [
    "# Se puede extraer un elemento por su posicion\n",
    "tupla_aula[2]"
   ]
  },
  {
   "cell_type": "code",
   "execution_count": 31,
   "id": "bec839ed",
   "metadata": {},
   "outputs": [
    {
     "data": {
      "text/plain": [
       "4"
      ]
     },
     "execution_count": 31,
     "metadata": {},
     "output_type": "execute_result"
    }
   ],
   "source": [
    "len(tupla_aula)"
   ]
  },
  {
   "cell_type": "code",
   "execution_count": 32,
   "id": "117c5504",
   "metadata": {},
   "outputs": [
    {
     "data": {
      "text/plain": [
       "{'Cusi', 'Granados', 'Julca', 'Marcos'}"
      ]
     },
     "execution_count": 32,
     "metadata": {},
     "output_type": "execute_result"
    }
   ],
   "source": [
    "# 1.3 Conjuntos\n",
    "# Es una coleccion de elementos que no esta ordenado (significa que no tiene un indice)\n",
    "conjunto_aula = {'Granados','Julca','Cusi','Marcos'}\n",
    "conjunto_aula"
   ]
  },
  {
   "cell_type": "code",
   "execution_count": 33,
   "id": "2e06ea1b",
   "metadata": {},
   "outputs": [
    {
     "name": "stdout",
     "output_type": "stream",
     "text": [
      "Granados\n",
      "Cusi\n",
      "Julca\n",
      "Marcos\n"
     ]
    }
   ],
   "source": [
    "# Se puede recorrer utilizando una estructura repetitiva\n",
    "for alumno in conjunto_aula:\n",
    "    print(alumno)"
   ]
  },
  {
   "cell_type": "code",
   "execution_count": 35,
   "id": "cbdd38c2",
   "metadata": {},
   "outputs": [],
   "source": [
    "# Observacion: No se puede acceder por posicion porque no considera indexacion\n",
    "# Ejemplo\n",
    "# conjunto_aula[2] -> devolvera un mensaje de error"
   ]
  },
  {
   "cell_type": "code",
   "execution_count": 36,
   "id": "764a26e8",
   "metadata": {},
   "outputs": [
    {
     "data": {
      "text/plain": [
       "4"
      ]
     },
     "execution_count": 36,
     "metadata": {},
     "output_type": "execute_result"
    }
   ],
   "source": [
    "len(conjunto_aula)"
   ]
  },
  {
   "cell_type": "code",
   "execution_count": 37,
   "id": "71ea60e5",
   "metadata": {},
   "outputs": [
    {
     "data": {
      "text/plain": [
       "{'Cusi', 'Granados', 'Julca', 'Marcos', 'Motta'}"
      ]
     },
     "execution_count": 37,
     "metadata": {},
     "output_type": "execute_result"
    }
   ],
   "source": [
    "#Para agregar utilizamos la funcion -> add()\n",
    "conjunto_aula.add('Motta')\n",
    "conjunto_aula"
   ]
  },
  {
   "cell_type": "code",
   "execution_count": 38,
   "id": "adfd3189",
   "metadata": {},
   "outputs": [
    {
     "data": {
      "text/plain": [
       "{'Cusi', 'Julca', 'Marcos', 'Motta'}"
      ]
     },
     "execution_count": 38,
     "metadata": {},
     "output_type": "execute_result"
    }
   ],
   "source": [
    "conjunto_aula.remove('Granados')\n",
    "conjunto_aula"
   ]
  },
  {
   "cell_type": "code",
   "execution_count": 40,
   "id": "b2054c38",
   "metadata": {},
   "outputs": [
    {
     "data": {
      "text/plain": [
       "{2: 'Cusi', '1': 'Julca', 'dos': 'Marcos', '0': 'Motta'}"
      ]
     },
     "execution_count": 40,
     "metadata": {},
     "output_type": "execute_result"
    }
   ],
   "source": [
    "# 1.4 Diccionarios\n",
    "# Es una coleccion de elementos, que estan indexados, no estan ordenados y se pueden modificar\n",
    "# Son escritos entre llaves -> {} y estab formados por pares de elementos\n",
    "# INDICE:VALOR\n",
    "\n",
    "diccionario_aula = {2:'Cusi', '1':'Julca', 'dos':'Marcos', '0':'Motta'}\n",
    "diccionario_aula"
   ]
  },
  {
   "cell_type": "code",
   "execution_count": 42,
   "id": "9e447f08",
   "metadata": {},
   "outputs": [
    {
     "data": {
      "text/plain": [
       "'Motta'"
      ]
     },
     "execution_count": 42,
     "metadata": {},
     "output_type": "execute_result"
    }
   ],
   "source": [
    "# Del diccionario: diccionario_aula extraer el valor cuyo indicesea cero en String\n",
    "diccionario_aula['0']"
   ]
  },
  {
   "cell_type": "code",
   "execution_count": 43,
   "id": "0e8196d9",
   "metadata": {},
   "outputs": [
    {
     "data": {
      "text/plain": [
       "'Marcos'"
      ]
     },
     "execution_count": 43,
     "metadata": {},
     "output_type": "execute_result"
    }
   ],
   "source": [
    "diccionario_aula['dos']"
   ]
  },
  {
   "cell_type": "code",
   "execution_count": 44,
   "id": "a47b0c58",
   "metadata": {},
   "outputs": [
    {
     "data": {
      "text/plain": [
       "{2: 'Cusi', '1': 'Julca', 'dos': 'Marcos', '0': 'Motta', '20': 'Serna'}"
      ]
     },
     "execution_count": 44,
     "metadata": {},
     "output_type": "execute_result"
    }
   ],
   "source": [
    "diccionario_aula['20']='Serna'\n",
    "diccionario_aula"
   ]
  },
  {
   "cell_type": "code",
   "execution_count": 45,
   "id": "bfaf09a4",
   "metadata": {},
   "outputs": [
    {
     "data": {
      "text/plain": [
       "{'1': 'Julca', 'dos': 'Marcos', '0': 'Motta', '20': 'Serna'}"
      ]
     },
     "execution_count": 45,
     "metadata": {},
     "output_type": "execute_result"
    }
   ],
   "source": [
    "# Para eliminar un valor se utiliza pop()\n",
    "# Ejemplo\n",
    "diccionario_aula.pop(2)\n",
    "diccionario_aula"
   ]
  },
  {
   "cell_type": "code",
   "execution_count": 48,
   "id": "eb200964",
   "metadata": {},
   "outputs": [
    {
     "data": {
      "text/plain": [
       "{'1': 'Julca', '0': 'Motta', '20': 'Serna'}"
      ]
     },
     "execution_count": 48,
     "metadata": {},
     "output_type": "execute_result"
    }
   ],
   "source": [
    "# Tambiense puede eliminar utilizando -> del()\n",
    "del(diccionario_aula[\"dos\"])\n",
    "diccionario_aula"
   ]
  },
  {
   "cell_type": "code",
   "execution_count": 49,
   "id": "1df6f6cc",
   "metadata": {},
   "outputs": [
    {
     "name": "stdout",
     "output_type": "stream",
     "text": [
      "1\n",
      "0\n",
      "20\n"
     ]
    }
   ],
   "source": [
    "# Para recorrer todos los elementos utilizamos for\n",
    "for indice in diccionario_aula:\n",
    "    print(indice)"
   ]
  },
  {
   "cell_type": "code",
   "execution_count": 50,
   "id": "e348daf3",
   "metadata": {},
   "outputs": [
    {
     "name": "stdout",
     "output_type": "stream",
     "text": [
      "1 Julca\n",
      "0 Motta\n",
      "20 Serna\n"
     ]
    }
   ],
   "source": [
    "# Para obtener el indice y el valor de cada elemento utilizamos items()\n",
    "for indice, valor in diccionario_aula.items():\n",
    "    print (indice,valor)"
   ]
  },
  {
   "cell_type": "code",
   "execution_count": 52,
   "id": "198ca57a",
   "metadata": {},
   "outputs": [],
   "source": [
    "# Dado una lista de [ALANYA, ALVA, AZAÑERO, CARRASCO, CCACCYA, COSME, CUSI, DIAZ, FLORES, GOMEZ, GOMEZ,\n",
    "# GRANADOS, HUANCAS, JULCA, LAURA, MOTTA, PINEDO, PONCE, QUINTANA,RODRIGUEZ, SERNA, VILCA, YAURICASA]\n",
    "# Diseñar un código que muestre si el apellido de un estudiante(ingreso por teclado forma parte de la lista)\n",
    "# Tiempo: 12 minutos"
   ]
  },
  {
   "cell_type": "code",
   "execution_count": 63,
   "id": "6be3f625",
   "metadata": {},
   "outputs": [
    {
     "name": "stdout",
     "output_type": "stream",
     "text": [
      "Ingrese el apellido del alumno: \n",
      "Huancas\n",
      "El apellido no esta en la lista\n"
     ]
    }
   ],
   "source": [
    "alumnos = [\"ALANYA\", \"ALVA\", \"AZAÑERO\", \"CARRASCO\", \"CCACCYA\", \"COSME\", \"CUSI\", \"DIAZ\", \"FLORES\", \"GOMEZ\", \"GOMEZ\", \"GRANADOS\", \"HUANCAS\", \"JULCA\", \"LAURA\", \"MOTTA\", \"PINEDO\", \"PONCE\", \"QUINTANA\", \"RODRIGUEZ\", \"SERNA\", \"VILCA\", \"YAURICASA\"]\n",
    "print(\"Ingrese el apellido del alumno: \")\n",
    "apellido = input()\n",
    "\n",
    "if apellido in alumnos :\n",
    "    print(\"El apellido si esta en la lista\")\n",
    "else:\n",
    "    print(\"El apellido no esta en la lista\")"
   ]
  },
  {
   "cell_type": "code",
   "execution_count": null,
   "id": "68ec2e82",
   "metadata": {},
   "outputs": [],
   "source": []
  }
 ],
 "metadata": {
  "kernelspec": {
   "display_name": "Python 3 (ipykernel)",
   "language": "python",
   "name": "python3"
  },
  "language_info": {
   "codemirror_mode": {
    "name": "ipython",
    "version": 3
   },
   "file_extension": ".py",
   "mimetype": "text/x-python",
   "name": "python",
   "nbconvert_exporter": "python",
   "pygments_lexer": "ipython3",
   "version": "3.9.7"
  }
 },
 "nbformat": 4,
 "nbformat_minor": 5
}
